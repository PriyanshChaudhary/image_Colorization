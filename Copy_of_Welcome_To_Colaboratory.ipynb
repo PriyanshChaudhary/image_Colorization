{
  "nbformat": 4,
  "nbformat_minor": 0,
  "metadata": {
    "colab": {
      "name": "Copy of Welcome To Colaboratory",
      "version": "0.3.2",
      "provenance": [],
      "collapsed_sections": [],
      "include_colab_link": true
    },
    "kernelspec": {
      "display_name": "Python 3",
      "name": "python3"
    }
  },
  "cells": [
    {
      "cell_type": "markdown",
      "metadata": {
        "id": "view-in-github",
        "colab_type": "text"
      },
      "source": [
        "<a href=\"https://colab.research.google.com/github/PriyanshChaudhary/image_Colorization/blob/PriyanshChaudhary-patch-1/Copy_of_Welcome_To_Colaboratory.ipynb\" target=\"_parent\"><img src=\"https://colab.research.google.com/assets/colab-badge.svg\" alt=\"Open In Colab\"/></a>"
      ]
    },
    {
      "cell_type": "markdown",
      "metadata": {
        "colab_type": "text",
        "id": "5fCEDCU_qrC0"
      },
      "source": [
        "<p><img alt=\"Colaboratory logo\" height=\"45px\" src=\"https://colab.research.google.com/img/colab_favicon.ico\" align=\"left\" hspace=\"10px\" vspace=\"0px\"></p>\n",
        "\n",
        "<h1>Welcome to Colaboratory!</h1>\n",
        "\n",
        "\n",
        "Colaboratory is a free Jupyter notebook environment that requires no setup and runs entirely in the cloud.\n",
        "\n",
        "With Colaboratory you can write and execute code, save and share your analyses, and access powerful computing resources, all for free from your browser."
      ]
    },
    {
      "cell_type": "code",
      "metadata": {
        "cellView": "form",
        "colab_type": "code",
        "id": "xitplqMNk_Hc",
        "colab": {}
      },
      "source": [
        "#@title Introducing Colaboratory\n",
        "#@markdown This 3-minute video gives an overview of the key features of Colaboratory:\n",
        "from IPython.display import YouTubeVideo\n",
        "YouTubeVideo('inN8seMm7UI', width=600, height=400)"
      ],
      "execution_count": 0,
      "outputs": []
    },
    {
      "cell_type": "code",
      "metadata": {
        "id": "_KKEN0g-BoM4",
        "colab_type": "code",
        "colab": {}
      },
      "source": [
        "import tensorflow as tf\n",
        "tf.logging.set_verbosity(tf.logging.ERROR)\n",
        "\n",
        "import numpy as np"
      ],
      "execution_count": 0,
      "outputs": []
    },
    {
      "cell_type": "code",
      "metadata": {
        "id": "IovVetOSCEiN",
        "colab_type": "code",
        "outputId": "3b31fb10-a500-486b-de23-6948eeb7c641",
        "colab": {
          "base_uri": "https://localhost:8080/",
          "height": 121
        }
      },
      "source": [
        "celsius = np.array([-40, -10, 0, 15, 22, 38], dtype = int)\n",
        "Fahrenheit = np.array([-40, 14, 32, 59, 72, 100], dtype = float)\n",
        "\n",
        "for i, c in enumerate(celsius):\n",
        "  print(\"{} degree celsius = {} degree Fahrenheit\".format(c, Fahrenheit[i] ))"
      ],
      "execution_count": 0,
      "outputs": [
        {
          "output_type": "stream",
          "text": [
            "-40 degree celsius = -40.0 degree Fahrenheit\n",
            "-10 degree celsius = 14.0 degree Fahrenheit\n",
            "0 degree celsius = 32.0 degree Fahrenheit\n",
            "15 degree celsius = 59.0 degree Fahrenheit\n",
            "22 degree celsius = 72.0 degree Fahrenheit\n",
            "38 degree celsius = 100.0 degree Fahrenheit\n"
          ],
          "name": "stdout"
        }
      ]
    },
    {
      "cell_type": "code",
      "metadata": {
        "colab_type": "code",
        "id": "J-NZydKMfDCU",
        "colab": {}
      },
      "source": [
        "l0 = tf.keras.layers.Dense(units = 1, input_shape = [1])\n",
        "model = tf.keras.Sequential([l0\n",
        "                        ])"
      ],
      "execution_count": 0,
      "outputs": []
    },
    {
      "cell_type": "code",
      "metadata": {
        "id": "VP8BgfbTfZFX",
        "colab_type": "code",
        "colab": {}
      },
      "source": [
        "model.compile(loss='mean_squared_error', \n",
        "              optimizer = tf.keras.optimizers.Adam(0.1))\n",
        "# MSE: Mean squared error, a type of loss function that counts...\n",
        "# a small number of large discrepancies as worse\n",
        "# than a large number of small ones."
      ],
      "execution_count": 0,
      "outputs": []
    },
    {
      "cell_type": "code",
      "metadata": {
        "id": "wdwx4SFyfcUF",
        "colab_type": "code",
        "outputId": "da4cdf97-0939-4099-eb96-18a60304cccc",
        "colab": {
          "base_uri": "https://localhost:8080/",
          "height": 34
        }
      },
      "source": [
        "#train the model\n",
        "history = model.fit(celsius, Fahrenheit, epochs = 500, verbose = False)\n",
        "print(\"Training the model\")"
      ],
      "execution_count": 0,
      "outputs": [
        {
          "output_type": "stream",
          "text": [
            "Training the model\n"
          ],
          "name": "stdout"
        }
      ]
    },
    {
      "cell_type": "code",
      "metadata": {
        "id": "Ggw9LarPfhZ8",
        "colab_type": "code",
        "outputId": "8f112f88-d47b-4e5d-cfd4-be63345a9ad9",
        "colab": {
          "base_uri": "https://localhost:8080/",
          "height": 336
        }
      },
      "source": [
        "print(\"Finished training now\")\n",
        "print()\n",
        "\n",
        "import matplotlib.pyplot as plt\n",
        "plt.xlabel(\"epoch number\")\n",
        "plt.ylabel(\"Loss Magnitude\")\n",
        "plt.plot(history.history['loss'])"
      ],
      "execution_count": 0,
      "outputs": [
        {
          "output_type": "stream",
          "text": [
            "Finished training now\n",
            "\n"
          ],
          "name": "stdout"
        },
        {
          "output_type": "execute_result",
          "data": {
            "text/plain": [
              "[<matplotlib.lines.Line2D at 0x7f799b749438>]"
            ]
          },
          "metadata": {
            "tags": []
          },
          "execution_count": 38
        },
        {
          "output_type": "display_data",
          "data": {
            "image/png": "[encoded data removed]",
            "text/plain": [
              "<Figure size 432x288 with 1 Axes>"
            ]
          },
          "metadata": {
            "tags": []
          }
        }
      ]
    },
    {
      "cell_type": "code",
      "metadata": {
        "id": "X_-L04PrnRab",
        "colab_type": "code",
        "outputId": "82d7bcee-b4a0-43ee-e971-b4c22a280dab",
        "colab": {
          "base_uri": "https://localhost:8080/",
          "height": 34
        }
      },
      "source": [
        "print(\"layer variables {}\".format(l0.get_weights()))"
      ],
      "execution_count": 0,
      "outputs": [
        {
          "output_type": "stream",
          "text": [
            "layer variables [array([[1.8156962]], dtype=float32), array([29.335602], dtype=float32)]\n"
          ],
          "name": "stdout"
        }
      ]
    },
    {
      "cell_type": "code",
      "metadata": {
        "id": "f0C7esug6QeQ",
        "colab_type": "code",
        "outputId": "c119d6c4-1209-4eb4-952a-abd2bbc3612b",
        "colab": {
          "base_uri": "https://localhost:8080/",
          "height": 34
        }
      },
      "source": [
        "print(\"Done completely\")"
      ],
      "execution_count": 0,
      "outputs": [
        {
          "output_type": "stream",
          "text": [
            "Done completely\n"
          ],
          "name": "stdout"
        }
      ]
    }
  ]
}